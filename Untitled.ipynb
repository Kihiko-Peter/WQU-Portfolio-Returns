{
 "cells": [
  {
   "cell_type": "code",
   "execution_count": 3,
   "id": "b04b969c-70a4-42f4-a02b-9970085a21c9",
   "metadata": {
    "tags": []
   },
   "outputs": [],
   "source": [
    "# Importing Libraries\n",
    "import pandas as pd\n",
    "import numpy as np"
   ]
  },
  {
   "cell_type": "code",
   "execution_count": 4,
   "id": "c8df03c4",
   "metadata": {},
   "outputs": [
    {
     "data": {
      "text/html": [
       "<div>\n",
       "<style scoped>\n",
       "    .dataframe tbody tr th:only-of-type {\n",
       "        vertical-align: middle;\n",
       "    }\n",
       "\n",
       "    .dataframe tbody tr th {\n",
       "        vertical-align: top;\n",
       "    }\n",
       "\n",
       "    .dataframe thead th {\n",
       "        text-align: right;\n",
       "    }\n",
       "</style>\n",
       "<table border=\"1\" class=\"dataframe\">\n",
       "  <thead>\n",
       "    <tr style=\"text-align: right;\">\n",
       "      <th></th>\n",
       "      <th>Date</th>\n",
       "      <th>Open</th>\n",
       "      <th>High</th>\n",
       "      <th>Low</th>\n",
       "      <th>Close</th>\n",
       "      <th>Adj Close</th>\n",
       "      <th>Volume</th>\n",
       "    </tr>\n",
       "  </thead>\n",
       "  <tbody>\n",
       "    <tr>\n",
       "      <th>0</th>\n",
       "      <td>2022-05-02</td>\n",
       "      <td>158.149994</td>\n",
       "      <td>166.479996</td>\n",
       "      <td>154.179993</td>\n",
       "      <td>157.279999</td>\n",
       "      <td>155.502945</td>\n",
       "      <td>443872900</td>\n",
       "    </tr>\n",
       "    <tr>\n",
       "      <th>1</th>\n",
       "      <td>2022-05-09</td>\n",
       "      <td>154.929993</td>\n",
       "      <td>156.740005</td>\n",
       "      <td>138.800003</td>\n",
       "      <td>147.110001</td>\n",
       "      <td>145.661560</td>\n",
       "      <td>686227300</td>\n",
       "    </tr>\n",
       "    <tr>\n",
       "      <th>2</th>\n",
       "      <td>2022-05-16</td>\n",
       "      <td>145.550003</td>\n",
       "      <td>149.770004</td>\n",
       "      <td>132.610001</td>\n",
       "      <td>137.589996</td>\n",
       "      <td>136.235306</td>\n",
       "      <td>548244700</td>\n",
       "    </tr>\n",
       "    <tr>\n",
       "      <th>3</th>\n",
       "      <td>2022-05-23</td>\n",
       "      <td>137.789993</td>\n",
       "      <td>149.679993</td>\n",
       "      <td>137.139999</td>\n",
       "      <td>149.639999</td>\n",
       "      <td>148.166672</td>\n",
       "      <td>495921700</td>\n",
       "    </tr>\n",
       "    <tr>\n",
       "      <th>4</th>\n",
       "      <td>2022-05-30</td>\n",
       "      <td>149.070007</td>\n",
       "      <td>151.740005</td>\n",
       "      <td>144.460007</td>\n",
       "      <td>145.380005</td>\n",
       "      <td>143.948608</td>\n",
       "      <td>338923400</td>\n",
       "    </tr>\n",
       "  </tbody>\n",
       "</table>\n",
       "</div>"
      ],
      "text/plain": [
       "         Date        Open        High         Low       Close   Adj Close  \\\n",
       "0  2022-05-02  158.149994  166.479996  154.179993  157.279999  155.502945   \n",
       "1  2022-05-09  154.929993  156.740005  138.800003  147.110001  145.661560   \n",
       "2  2022-05-16  145.550003  149.770004  132.610001  137.589996  136.235306   \n",
       "3  2022-05-23  137.789993  149.679993  137.139999  149.639999  148.166672   \n",
       "4  2022-05-30  149.070007  151.740005  144.460007  145.380005  143.948608   \n",
       "\n",
       "      Volume  \n",
       "0  443872900  \n",
       "1  686227300  \n",
       "2  548244700  \n",
       "3  495921700  \n",
       "4  338923400  "
      ]
     },
     "execution_count": 4,
     "metadata": {},
     "output_type": "execute_result"
    }
   ],
   "source": [
    "appl = pd.read_csv('aapl.csv')\n",
    "appl.head()"
   ]
  },
  {
   "cell_type": "code",
   "execution_count": 5,
   "id": "2603e952-c96e-4a8b-8213-961a6a6f54fd",
   "metadata": {
    "tags": []
   },
   "outputs": [],
   "source": [
    "# Create a function that reads and selects the columns below\n",
    "def read(data):\n",
    "    # Read data from CSV file\n",
    "    df = pd.read_csv(data)\n",
    "    # Select only the 'Date' and 'Close' columns\n",
    "    df = df[['Date', 'Close']]\n",
    "    \n",
    "#     Convert the date column to datetime\n",
    "    df['Date'] = pd.to_datetime(df['Date'])\n",
    "    \n",
    "    return df"
   ]
  },
  {
   "cell_type": "code",
   "execution_count": null,
   "id": "9ef437e1-ce45-4d11-870e-f3e782c1c7ae",
   "metadata": {
    "tags": []
   },
   "outputs": [],
   "source": []
  },
  {
   "cell_type": "code",
   "execution_count": 6,
   "id": "e3c78bdb-10b4-4e42-a0ff-07cf6b6d798c",
   "metadata": {
    "tags": []
   },
   "outputs": [
    {
     "data": {
      "text/html": [
       "<div>\n",
       "<style scoped>\n",
       "    .dataframe tbody tr th:only-of-type {\n",
       "        vertical-align: middle;\n",
       "    }\n",
       "\n",
       "    .dataframe tbody tr th {\n",
       "        vertical-align: top;\n",
       "    }\n",
       "\n",
       "    .dataframe thead th {\n",
       "        text-align: right;\n",
       "    }\n",
       "</style>\n",
       "<table border=\"1\" class=\"dataframe\">\n",
       "  <thead>\n",
       "    <tr style=\"text-align: right;\">\n",
       "      <th></th>\n",
       "      <th>Date</th>\n",
       "      <th>Close</th>\n",
       "    </tr>\n",
       "  </thead>\n",
       "  <tbody>\n",
       "    <tr>\n",
       "      <th>0</th>\n",
       "      <td>2022-05-02</td>\n",
       "      <td>157.279999</td>\n",
       "    </tr>\n",
       "    <tr>\n",
       "      <th>1</th>\n",
       "      <td>2022-05-09</td>\n",
       "      <td>147.110001</td>\n",
       "    </tr>\n",
       "    <tr>\n",
       "      <th>2</th>\n",
       "      <td>2022-05-16</td>\n",
       "      <td>137.589996</td>\n",
       "    </tr>\n",
       "    <tr>\n",
       "      <th>3</th>\n",
       "      <td>2022-05-23</td>\n",
       "      <td>149.639999</td>\n",
       "    </tr>\n",
       "    <tr>\n",
       "      <th>4</th>\n",
       "      <td>2022-05-30</td>\n",
       "      <td>145.380005</td>\n",
       "    </tr>\n",
       "    <tr>\n",
       "      <th>...</th>\n",
       "      <td>...</td>\n",
       "      <td>...</td>\n",
       "    </tr>\n",
       "    <tr>\n",
       "      <th>101</th>\n",
       "      <td>2024-04-08</td>\n",
       "      <td>176.550003</td>\n",
       "    </tr>\n",
       "    <tr>\n",
       "      <th>102</th>\n",
       "      <td>2024-04-15</td>\n",
       "      <td>165.000000</td>\n",
       "    </tr>\n",
       "    <tr>\n",
       "      <th>103</th>\n",
       "      <td>2024-04-22</td>\n",
       "      <td>169.300003</td>\n",
       "    </tr>\n",
       "    <tr>\n",
       "      <th>104</th>\n",
       "      <td>2024-04-29</td>\n",
       "      <td>173.029999</td>\n",
       "    </tr>\n",
       "    <tr>\n",
       "      <th>105</th>\n",
       "      <td>2024-05-03</td>\n",
       "      <td>183.380005</td>\n",
       "    </tr>\n",
       "  </tbody>\n",
       "</table>\n",
       "<p>106 rows × 2 columns</p>\n",
       "</div>"
      ],
      "text/plain": [
       "          Date       Close\n",
       "0   2022-05-02  157.279999\n",
       "1   2022-05-09  147.110001\n",
       "2   2022-05-16  137.589996\n",
       "3   2022-05-23  149.639999\n",
       "4   2022-05-30  145.380005\n",
       "..         ...         ...\n",
       "101 2024-04-08  176.550003\n",
       "102 2024-04-15  165.000000\n",
       "103 2024-04-22  169.300003\n",
       "104 2024-04-29  173.029999\n",
       "105 2024-05-03  183.380005\n",
       "\n",
       "[106 rows x 2 columns]"
      ]
     },
     "execution_count": 6,
     "metadata": {},
     "output_type": "execute_result"
    }
   ],
   "source": [
    "# APPL (Apple)\n",
    "\n",
    "appl = read('AAPL.csv')\n",
    "appl"
   ]
  },
  {
   "cell_type": "code",
   "execution_count": 7,
   "id": "152492c1-f288-4d97-8606-620696303d8d",
   "metadata": {
    "tags": []
   },
   "outputs": [
    {
     "data": {
      "text/plain": [
       "(106, 2)"
      ]
     },
     "execution_count": 7,
     "metadata": {},
     "output_type": "execute_result"
    }
   ],
   "source": [
    "# DKNG (Draftkings Inc.)\n",
    "\n",
    "dkng = read('DKNG.csv')\n",
    "dkng.shape"
   ]
  },
  {
   "cell_type": "code",
   "execution_count": 8,
   "id": "ac651b3d-0824-49f0-b814-ffdb63da91b5",
   "metadata": {
    "tags": []
   },
   "outputs": [
    {
     "data": {
      "text/plain": [
       "(106, 2)"
      ]
     },
     "execution_count": 8,
     "metadata": {},
     "output_type": "execute_result"
    }
   ],
   "source": [
    "# DNA (Gingko Bioworks Holding Inc)\n",
    "\n",
    "dna = read('DNA.csv')\n",
    "dna.shape"
   ]
  },
  {
   "cell_type": "code",
   "execution_count": 9,
   "id": "15c6e02e-37bf-417d-a0ee-4a8868f25716",
   "metadata": {
    "tags": []
   },
   "outputs": [],
   "source": [
    "# Lets define a function that calculates weekly returns \n",
    "\n",
    "def calculate_weekly_returns(df):\n",
    "# Set 'Date' column as index\n",
    "    df.set_index('Date')\n",
    "    \n",
    "# Convert date to to read in words\n",
    "    df['Date'] = df['Date'].dt.strftime('%d %B %Y').str.replace(' 0', ' ')\n",
    "    \n",
    "# Compute weekly returns\n",
    "    df['Weekly Return'] = df['Close'].pct_change() * 100\n",
    "    \n",
    "#     Dropping null values(This is because the first value will be null)\n",
    "    df.dropna(inplace = True)\n",
    "    \n",
    "#     Dropping the \"Closing Price column as we only need the Weekly Return\"\n",
    "    df = df.drop(columns=['Close'])\n",
    "    \n",
    "    \n",
    "    return df\n",
    "    \n"
   ]
  },
  {
   "cell_type": "code",
   "execution_count": 10,
   "id": "dc0ab657-0139-47c9-9fa0-ea9ac65099e5",
   "metadata": {
    "tags": []
   },
   "outputs": [],
   "source": [
    "# Getting the weekly returns of each stock\n",
    "\n",
    "# Gingko Bioworks Holdings\n",
    "dna_weekly = calculate_weekly_returns(dna)\n",
    "\n",
    "# Apple inc\n",
    "appl_weekly = calculate_weekly_returns(appl)\n",
    "\n",
    "# Draftkings Inc\n",
    "dkng_weekly = calculate_weekly_returns(dkng)"
   ]
  },
  {
   "cell_type": "code",
   "execution_count": 11,
   "id": "f551689c-6f2e-425f-a99b-42d5f8675a50",
   "metadata": {
    "tags": []
   },
   "outputs": [
    {
     "data": {
      "text/html": [
       "<div>\n",
       "<style scoped>\n",
       "    .dataframe tbody tr th:only-of-type {\n",
       "        vertical-align: middle;\n",
       "    }\n",
       "\n",
       "    .dataframe tbody tr th {\n",
       "        vertical-align: top;\n",
       "    }\n",
       "\n",
       "    .dataframe thead th {\n",
       "        text-align: right;\n",
       "    }\n",
       "</style>\n",
       "<table border=\"1\" class=\"dataframe\">\n",
       "  <thead>\n",
       "    <tr style=\"text-align: right;\">\n",
       "      <th></th>\n",
       "      <th>Date</th>\n",
       "      <th>Weekly Return</th>\n",
       "    </tr>\n",
       "  </thead>\n",
       "  <tbody>\n",
       "    <tr>\n",
       "      <th>1</th>\n",
       "      <td>09 May 2022</td>\n",
       "      <td>-4.106464</td>\n",
       "    </tr>\n",
       "    <tr>\n",
       "      <th>2</th>\n",
       "      <td>16 May 2022</td>\n",
       "      <td>11.260904</td>\n",
       "    </tr>\n",
       "    <tr>\n",
       "      <th>3</th>\n",
       "      <td>23 May 2022</td>\n",
       "      <td>4.918033</td>\n",
       "    </tr>\n",
       "    <tr>\n",
       "      <th>4</th>\n",
       "      <td>30 May 2022</td>\n",
       "      <td>-13.586957</td>\n",
       "    </tr>\n",
       "    <tr>\n",
       "      <th>5</th>\n",
       "      <td>06 June 2022</td>\n",
       "      <td>2.987421</td>\n",
       "    </tr>\n",
       "  </tbody>\n",
       "</table>\n",
       "</div>"
      ],
      "text/plain": [
       "           Date  Weekly Return\n",
       "1   09 May 2022      -4.106464\n",
       "2   16 May 2022      11.260904\n",
       "3   23 May 2022       4.918033\n",
       "4   30 May 2022     -13.586957\n",
       "5  06 June 2022       2.987421"
      ]
     },
     "execution_count": 11,
     "metadata": {},
     "output_type": "execute_result"
    }
   ],
   "source": [
    "dkng_weekly.head()"
   ]
  },
  {
   "cell_type": "code",
   "execution_count": 12,
   "id": "c7629e51-6bf5-4485-9a3c-e104319a90af",
   "metadata": {
    "tags": []
   },
   "outputs": [],
   "source": [
    "# Merge the DataFrames on the 'Date' column\n",
    "merged_df = pd.merge(dna_weekly, appl_weekly, on='Date')\n",
    "# merged_df\n",
    "merged_df = pd.merge(merged_df,dkng_weekly, on='Date')"
   ]
  },
  {
   "cell_type": "code",
   "execution_count": 13,
   "id": "f30e6452-6a42-4e3e-a623-860a780f333d",
   "metadata": {
    "tags": []
   },
   "outputs": [],
   "source": [
    "# Renaming columns\n",
    "merged_df = merged_df.rename(columns = {'Weekly Return_x': 'Gingko Bioworks(DNA)',\n",
    "                           'Weekly Return_y': 'Apple Inc(AAPL)',\n",
    "                            'Weekly Return':'Draftkings(DKNG)'})"
   ]
  },
  {
   "cell_type": "code",
   "execution_count": 14,
   "id": "49ddb9e3-c665-4996-acac-2584760c53b5",
   "metadata": {
    "tags": []
   },
   "outputs": [
    {
     "data": {
      "text/html": [
       "<div>\n",
       "<style scoped>\n",
       "    .dataframe tbody tr th:only-of-type {\n",
       "        vertical-align: middle;\n",
       "    }\n",
       "\n",
       "    .dataframe tbody tr th {\n",
       "        vertical-align: top;\n",
       "    }\n",
       "\n",
       "    .dataframe thead th {\n",
       "        text-align: right;\n",
       "    }\n",
       "</style>\n",
       "<table border=\"1\" class=\"dataframe\">\n",
       "  <thead>\n",
       "    <tr style=\"text-align: right;\">\n",
       "      <th></th>\n",
       "      <th>Date</th>\n",
       "      <th>Gingko Bioworks(DNA)</th>\n",
       "      <th>Apple Inc(AAPL)</th>\n",
       "      <th>Draftkings(DKNG)</th>\n",
       "    </tr>\n",
       "  </thead>\n",
       "  <tbody>\n",
       "    <tr>\n",
       "      <th>0</th>\n",
       "      <td>09 May 2022</td>\n",
       "      <td>-1.845018</td>\n",
       "      <td>-6.466174</td>\n",
       "      <td>-4.106464</td>\n",
       "    </tr>\n",
       "    <tr>\n",
       "      <th>1</th>\n",
       "      <td>16 May 2022</td>\n",
       "      <td>-1.879699</td>\n",
       "      <td>-6.471351</td>\n",
       "      <td>11.260904</td>\n",
       "    </tr>\n",
       "    <tr>\n",
       "      <th>2</th>\n",
       "      <td>23 May 2022</td>\n",
       "      <td>22.988506</td>\n",
       "      <td>8.757906</td>\n",
       "      <td>4.918033</td>\n",
       "    </tr>\n",
       "    <tr>\n",
       "      <th>3</th>\n",
       "      <td>30 May 2022</td>\n",
       "      <td>14.018692</td>\n",
       "      <td>-2.846828</td>\n",
       "      <td>-13.586957</td>\n",
       "    </tr>\n",
       "    <tr>\n",
       "      <th>4</th>\n",
       "      <td>06 June 2022</td>\n",
       "      <td>-22.950820</td>\n",
       "      <td>-5.674783</td>\n",
       "      <td>2.987421</td>\n",
       "    </tr>\n",
       "    <tr>\n",
       "      <th>...</th>\n",
       "      <td>...</td>\n",
       "      <td>...</td>\n",
       "      <td>...</td>\n",
       "      <td>...</td>\n",
       "    </tr>\n",
       "    <tr>\n",
       "      <th>100</th>\n",
       "      <td>08 April 2024</td>\n",
       "      <td>-6.481481</td>\n",
       "      <td>4.110155</td>\n",
       "      <td>-6.313559</td>\n",
       "    </tr>\n",
       "    <tr>\n",
       "      <th>101</th>\n",
       "      <td>15 April 2024</td>\n",
       "      <td>-14.356436</td>\n",
       "      <td>-6.542058</td>\n",
       "      <td>-8.005429</td>\n",
       "    </tr>\n",
       "    <tr>\n",
       "      <th>102</th>\n",
       "      <td>22 April 2024</td>\n",
       "      <td>-0.578035</td>\n",
       "      <td>2.606062</td>\n",
       "      <td>6.022618</td>\n",
       "    </tr>\n",
       "    <tr>\n",
       "      <th>103</th>\n",
       "      <td>29 April 2024</td>\n",
       "      <td>0.116279</td>\n",
       "      <td>2.203187</td>\n",
       "      <td>-0.231862</td>\n",
       "    </tr>\n",
       "    <tr>\n",
       "      <th>104</th>\n",
       "      <td>03 May 2024</td>\n",
       "      <td>10.917538</td>\n",
       "      <td>5.981625</td>\n",
       "      <td>-2.811989</td>\n",
       "    </tr>\n",
       "  </tbody>\n",
       "</table>\n",
       "<p>105 rows × 4 columns</p>\n",
       "</div>"
      ],
      "text/plain": [
       "              Date  Gingko Bioworks(DNA)  Apple Inc(AAPL)  Draftkings(DKNG)\n",
       "0      09 May 2022             -1.845018        -6.466174         -4.106464\n",
       "1      16 May 2022             -1.879699        -6.471351         11.260904\n",
       "2      23 May 2022             22.988506         8.757906          4.918033\n",
       "3      30 May 2022             14.018692        -2.846828        -13.586957\n",
       "4     06 June 2022            -22.950820        -5.674783          2.987421\n",
       "..             ...                   ...              ...               ...\n",
       "100  08 April 2024             -6.481481         4.110155         -6.313559\n",
       "101  15 April 2024            -14.356436        -6.542058         -8.005429\n",
       "102  22 April 2024             -0.578035         2.606062          6.022618\n",
       "103  29 April 2024              0.116279         2.203187         -0.231862\n",
       "104    03 May 2024             10.917538         5.981625         -2.811989\n",
       "\n",
       "[105 rows x 4 columns]"
      ]
     },
     "execution_count": 14,
     "metadata": {},
     "output_type": "execute_result"
    }
   ],
   "source": [
    "merged_df"
   ]
  },
  {
   "cell_type": "code",
   "execution_count": 15,
   "id": "71104a11-ae03-4489-b49a-655fc1467c77",
   "metadata": {
    "tags": []
   },
   "outputs": [
    {
     "data": {
      "text/html": [
       "<div>\n",
       "<style scoped>\n",
       "    .dataframe tbody tr th:only-of-type {\n",
       "        vertical-align: middle;\n",
       "    }\n",
       "\n",
       "    .dataframe tbody tr th {\n",
       "        vertical-align: top;\n",
       "    }\n",
       "\n",
       "    .dataframe thead th {\n",
       "        text-align: right;\n",
       "    }\n",
       "</style>\n",
       "<table border=\"1\" class=\"dataframe\">\n",
       "  <thead>\n",
       "    <tr style=\"text-align: right;\">\n",
       "      <th></th>\n",
       "      <th>Gingko Bioworks(DNA)</th>\n",
       "      <th>Apple Inc(AAPL)</th>\n",
       "      <th>Draftkings(DKNG)</th>\n",
       "    </tr>\n",
       "  </thead>\n",
       "  <tbody>\n",
       "    <tr>\n",
       "      <th>count</th>\n",
       "      <td>105.000000</td>\n",
       "      <td>105.000000</td>\n",
       "      <td>105.000000</td>\n",
       "    </tr>\n",
       "    <tr>\n",
       "      <th>mean</th>\n",
       "      <td>-0.311576</td>\n",
       "      <td>0.218103</td>\n",
       "      <td>1.610562</td>\n",
       "    </tr>\n",
       "    <tr>\n",
       "      <th>std</th>\n",
       "      <td>11.847972</td>\n",
       "      <td>3.796582</td>\n",
       "      <td>10.203540</td>\n",
       "    </tr>\n",
       "    <tr>\n",
       "      <th>min</th>\n",
       "      <td>-23.157895</td>\n",
       "      <td>-11.146783</td>\n",
       "      <td>-25.198413</td>\n",
       "    </tr>\n",
       "    <tr>\n",
       "      <th>25%</th>\n",
       "      <td>-7.555556</td>\n",
       "      <td>-2.009415</td>\n",
       "      <td>-4.106464</td>\n",
       "    </tr>\n",
       "    <tr>\n",
       "      <th>50%</th>\n",
       "      <td>-2.054795</td>\n",
       "      <td>0.154138</td>\n",
       "      <td>0.941915</td>\n",
       "    </tr>\n",
       "    <tr>\n",
       "      <th>75%</th>\n",
       "      <td>6.185567</td>\n",
       "      <td>2.610374</td>\n",
       "      <td>6.022618</td>\n",
       "    </tr>\n",
       "    <tr>\n",
       "      <th>max</th>\n",
       "      <td>35.714286</td>\n",
       "      <td>8.757906</td>\n",
       "      <td>31.564987</td>\n",
       "    </tr>\n",
       "  </tbody>\n",
       "</table>\n",
       "</div>"
      ],
      "text/plain": [
       "       Gingko Bioworks(DNA)  Apple Inc(AAPL)  Draftkings(DKNG)\n",
       "count            105.000000       105.000000        105.000000\n",
       "mean              -0.311576         0.218103          1.610562\n",
       "std               11.847972         3.796582         10.203540\n",
       "min              -23.157895       -11.146783        -25.198413\n",
       "25%               -7.555556        -2.009415         -4.106464\n",
       "50%               -2.054795         0.154138          0.941915\n",
       "75%                6.185567         2.610374          6.022618\n",
       "max               35.714286         8.757906         31.564987"
      ]
     },
     "execution_count": 15,
     "metadata": {},
     "output_type": "execute_result"
    }
   ],
   "source": [
    "merged_df.describe()"
   ]
  },
  {
   "cell_type": "code",
   "execution_count": 16,
   "id": "ccda5746-0c56-43f5-a542-2d3a80551773",
   "metadata": {
    "tags": []
   },
   "outputs": [
    {
     "data": {
      "text/html": [
       "<div>\n",
       "<style scoped>\n",
       "    .dataframe tbody tr th:only-of-type {\n",
       "        vertical-align: middle;\n",
       "    }\n",
       "\n",
       "    .dataframe tbody tr th {\n",
       "        vertical-align: top;\n",
       "    }\n",
       "\n",
       "    .dataframe thead th {\n",
       "        text-align: right;\n",
       "    }\n",
       "</style>\n",
       "<table border=\"1\" class=\"dataframe\">\n",
       "  <thead>\n",
       "    <tr style=\"text-align: right;\">\n",
       "      <th></th>\n",
       "      <th>Gingko Bioworks(DNA)</th>\n",
       "      <th>Apple Inc(AAPL)</th>\n",
       "      <th>Draftkings(DKNG)</th>\n",
       "    </tr>\n",
       "  </thead>\n",
       "  <tbody>\n",
       "    <tr>\n",
       "      <th>Average Weekly returns</th>\n",
       "      <td>-0.311576</td>\n",
       "      <td>0.218103</td>\n",
       "      <td>1.610562</td>\n",
       "    </tr>\n",
       "    <tr>\n",
       "      <th>Volatility</th>\n",
       "      <td>11.847972</td>\n",
       "      <td>3.796582</td>\n",
       "      <td>10.203540</td>\n",
       "    </tr>\n",
       "    <tr>\n",
       "      <th>Skewness</th>\n",
       "      <td>0.603942</td>\n",
       "      <td>-0.236032</td>\n",
       "      <td>0.418521</td>\n",
       "    </tr>\n",
       "    <tr>\n",
       "      <th>Kurtosis</th>\n",
       "      <td>0.368238</td>\n",
       "      <td>0.037153</td>\n",
       "      <td>1.352618</td>\n",
       "    </tr>\n",
       "  </tbody>\n",
       "</table>\n",
       "</div>"
      ],
      "text/plain": [
       "                        Gingko Bioworks(DNA)  Apple Inc(AAPL)  \\\n",
       "Average Weekly returns             -0.311576         0.218103   \n",
       "Volatility                         11.847972         3.796582   \n",
       "Skewness                            0.603942        -0.236032   \n",
       "Kurtosis                            0.368238         0.037153   \n",
       "\n",
       "                        Draftkings(DKNG)  \n",
       "Average Weekly returns          1.610562  \n",
       "Volatility                     10.203540  \n",
       "Skewness                        0.418521  \n",
       "Kurtosis                        1.352618  "
      ]
     },
     "execution_count": 16,
     "metadata": {},
     "output_type": "execute_result"
    }
   ],
   "source": [
    "# Create a table with the Average weekly returns, volatility, skewness and kurtosis for each stock\n",
    "\n",
    "statistics = {'Average Weekly returns': merged_df.mean(numeric_only = True),\n",
    "             'Volatility': merged_df.std(numeric_only = True),\n",
    "             'Skewness': merged_df.skew(numeric_only = True),\n",
    "             'Kurtosis':merged_df.kurtosis(numeric_only = True)}\n",
    "\n",
    "# Create DataFrame from statistics dictionary\n",
    "statistics_df = pd.DataFrame(statistics)\n",
    "\n",
    "# Lets transpose\n",
    "statistics_df = statistics_df.transpose()\n",
    "statistics_df"
   ]
  },
  {
   "cell_type": "code",
   "execution_count": 17,
   "id": "b89d2ce3-4457-4b16-8700-07f8b72838a6",
   "metadata": {
    "tags": []
   },
   "outputs": [
    {
     "data": {
      "text/html": [
       "<div>\n",
       "<style scoped>\n",
       "    .dataframe tbody tr th:only-of-type {\n",
       "        vertical-align: middle;\n",
       "    }\n",
       "\n",
       "    .dataframe tbody tr th {\n",
       "        vertical-align: top;\n",
       "    }\n",
       "\n",
       "    .dataframe thead th {\n",
       "        text-align: right;\n",
       "    }\n",
       "</style>\n",
       "<table border=\"1\" class=\"dataframe\">\n",
       "  <thead>\n",
       "    <tr style=\"text-align: right;\">\n",
       "      <th></th>\n",
       "      <th>Gingko Bioworks(DNA)</th>\n",
       "      <th>Apple Inc(AAPL)</th>\n",
       "      <th>Draftkings(DKNG)</th>\n",
       "    </tr>\n",
       "  </thead>\n",
       "  <tbody>\n",
       "    <tr>\n",
       "      <th>Gingko Bioworks(DNA)</th>\n",
       "      <td>1.000000</td>\n",
       "      <td>0.459468</td>\n",
       "      <td>0.502725</td>\n",
       "    </tr>\n",
       "    <tr>\n",
       "      <th>Apple Inc(AAPL)</th>\n",
       "      <td>0.459468</td>\n",
       "      <td>1.000000</td>\n",
       "      <td>0.499045</td>\n",
       "    </tr>\n",
       "    <tr>\n",
       "      <th>Draftkings(DKNG)</th>\n",
       "      <td>0.502725</td>\n",
       "      <td>0.499045</td>\n",
       "      <td>1.000000</td>\n",
       "    </tr>\n",
       "  </tbody>\n",
       "</table>\n",
       "</div>"
      ],
      "text/plain": [
       "                      Gingko Bioworks(DNA)  Apple Inc(AAPL)  Draftkings(DKNG)\n",
       "Gingko Bioworks(DNA)              1.000000         0.459468          0.502725\n",
       "Apple Inc(AAPL)                   0.459468         1.000000          0.499045\n",
       "Draftkings(DKNG)                  0.502725         0.499045          1.000000"
      ]
     },
     "execution_count": 17,
     "metadata": {},
     "output_type": "execute_result"
    }
   ],
   "source": [
    "# Lets find the correlation matrix\n",
    "\n",
    "corelation_matrix = merged_df.corr(numeric_only=True)\n",
    "corelation_matrix"
   ]
  },
  {
   "cell_type": "code",
   "execution_count": 18,
   "id": "7503cb05-e868-4447-b182-6c3c7dbbbbab",
   "metadata": {
    "tags": []
   },
   "outputs": [
    {
     "data": {
      "text/html": [
       "<div>\n",
       "<style scoped>\n",
       "    .dataframe tbody tr th:only-of-type {\n",
       "        vertical-align: middle;\n",
       "    }\n",
       "\n",
       "    .dataframe tbody tr th {\n",
       "        vertical-align: top;\n",
       "    }\n",
       "\n",
       "    .dataframe thead th {\n",
       "        text-align: right;\n",
       "    }\n",
       "</style>\n",
       "<table border=\"1\" class=\"dataframe\">\n",
       "  <thead>\n",
       "    <tr style=\"text-align: right;\">\n",
       "      <th></th>\n",
       "      <th>Gingko Bioworks(DNA)</th>\n",
       "      <th>Apple Inc(AAPL)</th>\n",
       "      <th>Draftkings(DKNG)</th>\n",
       "    </tr>\n",
       "  </thead>\n",
       "  <tbody>\n",
       "    <tr>\n",
       "      <th>Gingko Bioworks(DNA)</th>\n",
       "      <td>140.374431</td>\n",
       "      <td>20.667696</td>\n",
       "      <td>60.775029</td>\n",
       "    </tr>\n",
       "    <tr>\n",
       "      <th>Apple Inc(AAPL)</th>\n",
       "      <td>20.667696</td>\n",
       "      <td>14.414038</td>\n",
       "      <td>19.332301</td>\n",
       "    </tr>\n",
       "    <tr>\n",
       "      <th>Draftkings(DKNG)</th>\n",
       "      <td>60.775029</td>\n",
       "      <td>19.332301</td>\n",
       "      <td>104.112219</td>\n",
       "    </tr>\n",
       "  </tbody>\n",
       "</table>\n",
       "</div>"
      ],
      "text/plain": [
       "                      Gingko Bioworks(DNA)  Apple Inc(AAPL)  Draftkings(DKNG)\n",
       "Gingko Bioworks(DNA)            140.374431        20.667696         60.775029\n",
       "Apple Inc(AAPL)                  20.667696        14.414038         19.332301\n",
       "Draftkings(DKNG)                 60.775029        19.332301        104.112219"
      ]
     },
     "execution_count": 18,
     "metadata": {},
     "output_type": "execute_result"
    }
   ],
   "source": [
    "covariance_matrix = merged_df.cov(numeric_only = True)\n",
    "covariance_matrix"
   ]
  },
  {
   "cell_type": "code",
   "execution_count": null,
   "id": "a5410d03-0d52-4765-a732-aac71f151388",
   "metadata": {},
   "outputs": [],
   "source": []
  }
 ],
 "metadata": {
  "kernelspec": {
   "display_name": "Python 3 (ipykernel)",
   "language": "python",
   "name": "python3"
  },
  "language_info": {
   "codemirror_mode": {
    "name": "ipython",
    "version": 3
   },
   "file_extension": ".py",
   "mimetype": "text/x-python",
   "name": "python",
   "nbconvert_exporter": "python",
   "pygments_lexer": "ipython3",
   "version": "3.11.3"
  }
 },
 "nbformat": 4,
 "nbformat_minor": 5
}
